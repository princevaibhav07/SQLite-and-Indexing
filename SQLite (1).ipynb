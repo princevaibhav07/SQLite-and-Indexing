{
 "cells": [
  {
   "cell_type": "markdown",
   "id": "40056f95",
   "metadata": {},
   "source": [
    "# Practice Problem on \"Indexing And SQLite\""
   ]
  },
  {
   "cell_type": "markdown",
   "id": "96f8a76f",
   "metadata": {},
   "source": [
    "### Problem 1 : Update SQL Table"
   ]
  },
  {
   "cell_type": "markdown",
   "id": "d8e1a6cf",
   "metadata": {},
   "source": [
    "##### A given data of 12 Employees working in an investment firm. So add the Employee Data in Employee SQLite Database of Employee_Detail Table which was created by you.\n"
   ]
  },
  {
   "cell_type": "code",
   "execution_count": 12,
   "id": "db8d6b0c",
   "metadata": {},
   "outputs": [],
   "source": [
    "import sqlite3\n",
    "db = sqlite3.connect('Employee_Detail.sqlite')"
   ]
  },
  {
   "cell_type": "code",
   "execution_count": 13,
   "id": "b981ab04",
   "metadata": {},
   "outputs": [
    {
     "data": {
      "text/plain": [
       "<sqlite3.Cursor at 0x20141b66b40>"
      ]
     },
     "execution_count": 13,
     "metadata": {},
     "output_type": "execute_result"
    }
   ],
   "source": [
    "cur = db.cursor()\n",
    "cur"
   ]
  },
  {
   "cell_type": "code",
   "execution_count": 14,
   "id": "983fb5e4",
   "metadata": {},
   "outputs": [
    {
     "data": {
      "text/plain": [
       "<sqlite3.Cursor at 0x20141b66b40>"
      ]
     },
     "execution_count": 14,
     "metadata": {},
     "output_type": "execute_result"
    }
   ],
   "source": [
    "sql_query = 'create table Employee_Detail(Employee_ID int primary key, Name text, Age int, Department text, Salary int)'\n",
    "cur.execute(sql_query)"
   ]
  },
  {
   "cell_type": "code",
   "execution_count": null,
   "id": "85367d31",
   "metadata": {},
   "outputs": [],
   "source": [
    "values = [(101, 'Aadarsh', 25, 'Marketing', 50000),(102, 'Aarti', 27, 'Operation', 60000),(103, 'Siddharth', 25, 'Finance', 85000)]\n",
    "cur.executemany('insert into Employee_Detail values(?,?,?,?,?)', values)\n",
    "db.commit()"
   ]
  },
  {
   "cell_type": "code",
   "execution_count": 17,
   "id": "4bb8aa06",
   "metadata": {},
   "outputs": [],
   "source": [
    "values = [(104, 'Aman', 24, 'Human Resource', 75000),(105, 'Amit', 30, 'Marketing', 50000),(106, 'Shivansh', 26, 'IT', 90000)]\n",
    "cur.executemany('insert into Employee_Detail values(?,?,?,?,?)', values)\n",
    "db.commit()"
   ]
  },
  {
   "cell_type": "code",
   "execution_count": 18,
   "id": "0772c97a",
   "metadata": {},
   "outputs": [],
   "source": [
    "values = [(107, 'Vaibhav', 23, 'Finance', 85000),(108, 'Himanshu', 26, 'IT', 90000),(109, 'Raman', 25, 'Operations', 60000)]\n",
    "cur.executemany('Insert into Employee_Detail values (?,?,?,?,?)', values)\n",
    "db.commit()"
   ]
  },
  {
   "cell_type": "code",
   "execution_count": 19,
   "id": "d143d214",
   "metadata": {},
   "outputs": [],
   "source": [
    "values = [(110, 'Kunal', 26, 'Marketing', 50000),(111, 'Adhira', 29, 'Human Resource', 75000),(112, 'Tanya', 24, 'Marketing', 50000)]\n",
    "cur.executemany('Insert into Employee_Detail values (?,?,?,?,?)', values)\n",
    "db.commit()"
   ]
  },
  {
   "cell_type": "code",
   "execution_count": 7,
   "id": "7a3f0362",
   "metadata": {},
   "outputs": [
    {
     "name": "stdout",
     "output_type": "stream",
     "text": [
      "Done\n"
     ]
    }
   ],
   "source": [
    "db.close()\n",
    "print('Done')"
   ]
  },
  {
   "cell_type": "markdown",
   "id": "4d04f433",
   "metadata": {},
   "source": [
    "# Problem 2 : Finance Employee SQLite\n",
    "Find the employee_id of employee whose is working in Finance Department in Investment firm from Employee SQLite Database.\n",
    "Print the employee_id as integer value"
   ]
  },
  {
   "cell_type": "code",
   "execution_count": 21,
   "id": "268321a5",
   "metadata": {},
   "outputs": [],
   "source": [
    "import sqlite3\n",
    "db = sqlite3.connect('Employee_Detail.sqlite')\n",
    "cur = db.cursor()"
   ]
  },
  {
   "cell_type": "code",
   "execution_count": 23,
   "id": "a719f4d4",
   "metadata": {},
   "outputs": [
    {
     "name": "stdout",
     "output_type": "stream",
     "text": [
      "103\n",
      "107\n"
     ]
    },
    {
     "data": {
      "text/plain": [
       "<function Connection.close()>"
      ]
     },
     "execution_count": 23,
     "metadata": {},
     "output_type": "execute_result"
    }
   ],
   "source": [
    "cur.execute('select * from Employee_Detail where Department = \"Finance\"')\n",
    "ans = cur.fetchall()\n",
    "for i in ans:\n",
    "    print(i[0])\n",
    "db.close"
   ]
  },
  {
   "cell_type": "markdown",
   "id": "e8cf02b4",
   "metadata": {},
   "source": [
    "# Problem 3 : Find Employee\n",
    "Find the number of employee working in different department in an investment firm from Employee SQLite Database.\n",
    "Print the department and number of employee"
   ]
  },
  {
   "cell_type": "code",
   "execution_count": 24,
   "id": "fe171300",
   "metadata": {},
   "outputs": [],
   "source": [
    "import sqlite3\n",
    "\n",
    "db = sqlite3.connect('Employee_Detail.sqlite')\n",
    "cur = db.cursor()"
   ]
  },
  {
   "cell_type": "code",
   "execution_count": 25,
   "id": "ae38628f",
   "metadata": {},
   "outputs": [
    {
     "name": "stdout",
     "output_type": "stream",
     "text": [
      "Finance 2\n",
      "Human Resource 2\n",
      "IT 2\n",
      "Marketing 4\n",
      "Operation 1\n",
      "Operations 1\n"
     ]
    }
   ],
   "source": [
    "cur.execute('select Department,count(*) from Employee_Detail group by Department')\n",
    "ans = cur.fetchall()\n",
    "for i in ans:\n",
    "    print(i[0],i[1])\n",
    "db.close()"
   ]
  },
  {
   "cell_type": "markdown",
   "id": "d7b406b2",
   "metadata": {},
   "source": [
    "# Problem 4 : Count Genre\n",
    "IMDB.sqlite' database contains all details of movies and has three tables with name IMDB, genre and earning.\n",
    "Find the count of each genre present in IMDB movie dataset?\n",
    "Print the Genre and number of movies present in that genre.\n",
    "Note: Ignore the empty value present in genre"
   ]
  },
  {
   "cell_type": "code",
   "execution_count": 31,
   "id": "4709fed0",
   "metadata": {},
   "outputs": [],
   "source": [
    "import pandas as pd\n",
    "import sqlite3\n",
    "db = sqlite3.connect('IMDB.sqlite')"
   ]
  },
  {
   "cell_type": "code",
   "execution_count": 32,
   "id": "57328475",
   "metadata": {},
   "outputs": [
    {
     "name": "stdout",
     "output_type": "stream",
     "text": [
      "Drama 77\n",
      "Adventure 43\n",
      "Action 33\n",
      "Comedy 31\n",
      "Biography 21\n",
      "Sci-Fi 18\n",
      "Thriller 14\n",
      "Animation 13\n",
      "Romance 13\n",
      "Crime 11\n",
      "Mystery 7\n",
      "Fantasy 7\n",
      "History 6\n",
      "Family 3\n",
      "Sport 3\n",
      "Music 3\n",
      "Western 2\n",
      "War 2\n",
      "Horror 2\n",
      "Musical 1\n"
     ]
    }
   ],
   "source": [
    "data = pd.read_sql_query('select * from genre', db)\n",
    "data = data[data['genre']!='']\n",
    "#print(data.to_string(index=False, header=False))\n",
    "data = data[\"genre\"].value_counts()\n",
    "for i in range (len(data)):\n",
    "    print(data.index[i], data.values[i])"
   ]
  },
  {
   "cell_type": "markdown",
   "id": "2f073c90",
   "metadata": {},
   "source": [
    "# Problem 5 : IMDB Movie\n",
    "IMDB.sqlite' database contains all details of movies and has three tables with name IMDB, genre and earning.\n",
    "Find the highest-grossing movie (i.e domestic earning + worldwide earning) in IMDB database.\n",
    "Print the rating of that movie."
   ]
  },
  {
   "cell_type": "code",
   "execution_count": null,
   "id": "50c996bd",
   "metadata": {},
   "outputs": [],
   "source": [
    "import pandas as pd\n",
    "import sqlite3\n",
    "db = sqlite.connect('IMDB.sqlite')"
   ]
  },
  {
   "cell_type": "code",
   "execution_count": 6,
   "id": "0925b033",
   "metadata": {},
   "outputs": [
    {
     "name": "stdout",
     "output_type": "stream",
     "text": [
      "8.1\n"
     ]
    }
   ],
   "source": [
    "data = pd.read_sql_query('select * from earning inner join IMDB on earning.Movie_id = IMDB.Movie_id', db)\n",
    "#select * from earning join IMDB using(Movie_id) \n",
    "data[\"Total\"] = data[\"Domestic\"] + data[\"Worldwide\"]\n",
    "# Find movie with highest total earnings\n",
    "max1 = max(data[\"Total\"])\n",
    "data = data[data['Total']==max1]\n",
    "print(data.values[0][5])"
   ]
  },
  {
   "cell_type": "markdown",
   "id": "a0b9e6ed",
   "metadata": {},
   "source": [
    "# Assignment\n",
    "Problem 1 : IMDB Voted\n",
    "IMDB.sqlite' database contains all details of movies and has three tables with name IMDB, genre and earning.\n",
    "Find the most voted movie in IMDB Movie Database.\n",
    "Print the movie name and the rating of that movie."
   ]
  },
  {
   "cell_type": "code",
   "execution_count": 5,
   "id": "beddd6c3",
   "metadata": {},
   "outputs": [],
   "source": [
    "import pandas as pd\n",
    "import sqlite3\n",
    "db = sqlite3.connect('IMDB.sqlite')"
   ]
  },
  {
   "cell_type": "code",
   "execution_count": 4,
   "id": "cfc6f574",
   "metadata": {},
   "outputs": [
    {
     "name": "stdout",
     "output_type": "stream",
     "text": [
      "Inception (2010) 8.8\n"
     ]
    }
   ],
   "source": [
    "data = pd.read_sql_query('select * from IMDB', db)\n",
    "max1 = max(data['TotalVotes'])\n",
    "data = data[data['TotalVotes']==max1]\n",
    "print(data['Title'].values[0], data['Rating'].values[0])"
   ]
  },
  {
   "cell_type": "markdown",
   "id": "18a02c81",
   "metadata": {},
   "source": [
    "# Problem 2 : IMDB running time\n",
    "IMDB.sqlite database contains all details of movies and has three tables with name IMDB, genre and earning.\n",
    "Find the Movie with Longest-Running Time from IMDB Movie database.\n",
    "Print the name of movie and running time as integer value."
   ]
  },
  {
   "cell_type": "code",
   "execution_count": 2,
   "id": "f222b353",
   "metadata": {},
   "outputs": [],
   "source": [
    "import pandas as pd\n",
    "import numpy as np\n",
    "import sqlite3\n",
    "db = sqlite3.connect('IMDB.sqlite')"
   ]
  },
  {
   "cell_type": "code",
   "execution_count": 3,
   "id": "9bb4a822",
   "metadata": {},
   "outputs": [
    {
     "name": "stdout",
     "output_type": "stream",
     "text": [
      "The Wolf of Wall Street (2013) 180\n"
     ]
    }
   ],
   "source": [
    "data = pd.read_sql_query('select * from IMDB',db)\n",
    "\n",
    "def fun(input_runtime):\n",
    "    return input_runtime.strip().split(\" \")[0]\n",
    "\n",
    "data['Runtime'] = data['Runtime'].apply(fun)\n",
    "data['Runtime'].replace('',np.nan,inplace=True)\n",
    "data['Runtime'].astype(float) \n",
    "\n",
    "data.dropna(inplace=True,subset=['Runtime'])\n",
    "data['Runtime']=data['Runtime'].astype(int)\n",
    "max1 = max(data['Runtime'])\n",
    "data=data[data['Runtime']== max1]\n",
    "\n",
    "print(data['Title'].values[0],data['Runtime'].values[0])"
   ]
  },
  {
   "cell_type": "markdown",
   "id": "27f67c38",
   "metadata": {},
   "source": [
    "# Problem 3 : IMDB profit\n",
    "IMDB.sqlite database contains all details of movies and has three tables with name IMDB, genre and earning.\n",
    "Find the movie which has maximum net profit in IMDB Movie Database.\n",
    "Print the movie name.\n",
    "Note: Net Profit= Total Earning(Domestic+WorldWide earning) - budget"
   ]
  },
  {
   "cell_type": "code",
   "execution_count": 8,
   "id": "d380f740",
   "metadata": {},
   "outputs": [],
   "source": [
    "import pandas as pd\n",
    "import numpy as np\n",
    "import sqlite3\n",
    "\n",
    "db = sqlite3.connect('IMDB.sqlite')"
   ]
  },
  {
   "cell_type": "code",
   "execution_count": 13,
   "id": "eaff0f6b",
   "metadata": {},
   "outputs": [
    {
     "name": "stdout",
     "output_type": "stream",
     "text": [
      "Star Wars: The Force Awakens (2015)\n"
     ]
    }
   ],
   "source": [
    "data = pd.read_sql_query('select * from earning  join IMDB using(Movie_id)',db)\n",
    "\n",
    "data['Total'] = data['Domestic'] + data['Worldwide']\n",
    "data['Budget'].replace('',np.nan,inplace=True)\n",
    "data['Budget'].astype(float)\n",
    "data['Profit']=data['Total']-data['Budget']\n",
    "\n",
    "max1 = max(data['Profit'])\n",
    "data=data[data['Profit']==max1]\n",
    "print(data.values[0][3])"
   ]
  },
  {
   "cell_type": "markdown",
   "id": "2edd0130",
   "metadata": {},
   "source": [
    "# Problem 4 : IMDB least budget\n",
    "IMDB.sqlite database contains all details of movies and has three tables with name IMDB, genre and earning.\n",
    "Find the least budgeted movie in IMDB Movie Database.\n",
    "If there is more than one least budgeted movies then print the movie which has maximum net profit.\n",
    "Note: Net Profit= Total Earning(Domestic+WorldWide earning) - budget"
   ]
  },
  {
   "cell_type": "code",
   "execution_count": 14,
   "id": "3d75b664",
   "metadata": {},
   "outputs": [],
   "source": [
    "import pandas as pd\n",
    "import numpy as np\n",
    "import sqlite3\n",
    "\n",
    "db = sqlite3.connect('IMDB.sqlite')"
   ]
  },
  {
   "cell_type": "code",
   "execution_count": 18,
   "id": "f3a1dae8",
   "metadata": {},
   "outputs": [
    {
     "name": "stdout",
     "output_type": "stream",
     "text": [
      "Short Term 12 (2013)\n"
     ]
    }
   ],
   "source": [
    "data = pd.read_sql_query('select * from earning join IMDB using(Movie_id)', db)\n",
    "data['Total'] = data['Domestic'] + data['Worldwide']\n",
    "data['Budget'].replace('',np.nan,inplace=True)\n",
    "data['Budget'].astype(float)\n",
    "data['Profit']=data['Total']-data['Budget']\n",
    "\n",
    "min1 = min(data['Budget'])\n",
    "data=data[(data['Budget']==min1)]\n",
    "data=data[data['Profit']==max(data['Profit'])]\n",
    "print(data['Title'].values[0])"
   ]
  },
  {
   "cell_type": "markdown",
   "id": "c9482b8d",
   "metadata": {},
   "source": [
    "# Problem 5 : IMDB Year Top\n",
    "IMDB.sqlite' database contains all details of movies and has three tables with name IMDB, genre and earning.\n",
    "Find the highest-grossing movie (i.e domestic earning + worldwide earning) in IMDB database year wise.\n",
    "Print the Year and name of the movie which was the highest grosser in that year.\n",
    "Note:Print the year in ascending order"
   ]
  },
  {
   "cell_type": "code",
   "execution_count": null,
   "id": "d75f4871",
   "metadata": {},
   "outputs": [],
   "source": [
    "import pandas as pd\n",
    "import numpy as np\n",
    "import sqlite3\n",
    "\n",
    "db = sqlite3.connect('IMDB.sqlite')"
   ]
  },
  {
   "cell_type": "code",
   "execution_count": 21,
   "id": "a25d259a",
   "metadata": {},
   "outputs": [
    {
     "name": "stdout",
     "output_type": "stream",
     "text": [
      "2010 Toy Story 3 (2010)\n",
      "2011 Rise of the Planet of the Apes (2011)\n",
      "2012 The Avengers (2012)\n",
      "2013 The Hunger Games: Catching Fire (2013)\n",
      "2014 Guardians of the Galaxy (2014)\n",
      "2015 Star Wars: The Force Awakens (2015)\n",
      "2016 Rogue One (2016)\n"
     ]
    }
   ],
   "source": [
    "data = pd.read_sql_query('select * from earning join IMDB using(Movie_id)',db)\n",
    "\n",
    "data['Total'] = data['Domestic'] + data['Worldwide']\n",
    "\n",
    "def year(title):\n",
    "    return int(title.strip().split(\" \")[-1][-5:-1])\n",
    "\n",
    "data['Year'] = data[\"Title\"].apply(year)\n",
    "data['Year'].unique()\n",
    "\n",
    "m = data.groupby('Year')['Total'].max()\n",
    "d = {}\n",
    "for i in range(len(data['Total'])):\n",
    "    if data['Total'][i] in (m.values):\n",
    "        key = data['Year'][i]\n",
    "        value = data['Title'][i]\n",
    "        d[key] = value\n",
    "        \n",
    "for i  in sorted(d):\n",
    "    print(i,d[i])\n"
   ]
  },
  {
   "cell_type": "markdown",
   "id": "350fbb65",
   "metadata": {},
   "source": [
    "# Problem 6 : IMDB genre budget\n",
    "IMDB.sqlite' database contains all details of movies and has three tables with name IMDB, genre and earning.\n",
    "Find out the percentage of the budget for each genre in IMDB Movie Dataset?Plot the pie chart.\n",
    "Print the genre and percentage of movies budget present in that genre with 2 decimal place after rounding off..\n",
    "Note: Movies has multiple genres, so calculate the percentage for each genre.Replace empty budget column to zero."
   ]
  },
  {
   "cell_type": "code",
   "execution_count": 22,
   "id": "00f84e37",
   "metadata": {},
   "outputs": [],
   "source": [
    "import pandas as pd\n",
    "import numpy as np\n",
    "import sqlite3\n",
    "import matplotlib.pyplot as plt\n",
    "%matplotlib inline\n",
    "\n",
    "db = sqlite3.connect('IMDB.sqlite')"
   ]
  },
  {
   "cell_type": "code",
   "execution_count": 23,
   "id": "45efc681",
   "metadata": {},
   "outputs": [
    {
     "name": "stdout",
     "output_type": "stream",
     "text": [
      "Action 17.98\n",
      "Adventure 25.10\n",
      "Animation 7.66\n",
      "Biography 2.59\n",
      "Comedy 7.22\n",
      "Crime 1.77\n",
      "Drama 10.85\n",
      "Family 1.91\n",
      "Fantasy 4.54\n",
      "History 0.72\n",
      "Horror 0.03\n",
      "Music 0.15\n",
      "Musical 0.25\n",
      "Mystery 1.95\n",
      "Romance 1.12\n",
      "Sci-Fi 10.77\n",
      "Sport 0.46\n",
      "Thriller 3.99\n",
      "War 0.36\n",
      "Western 0.57\n"
     ]
    },
    {
     "data": {
      "image/png": "[encoded data removed]",
      "text/plain": [
       "<Figure size 640x480 with 1 Axes>"
      ]
     },
     "metadata": {},
     "output_type": "display_data"
    }
   ],
   "source": [
    "data = pd.read_sql_query('Select * from IMDB join genre using(Movie_id)',db)\n",
    "data['Budget'].replace(\"\",0,inplace=True)\n",
    "data.Budget.unique()\n",
    "\n",
    "data[\"genre\"].replace('',np.NaN,inplace=True)\n",
    "data.dropna(subset = [\"genre\"],inplace=True)\n",
    "grouped_sum = data.groupby(\"genre\")[\"Budget\"].sum()\n",
    "\n",
    "for i in range(len(grouped_sum)):\n",
    "    percentage=grouped_sum.values[i]/(sum(grouped_sum))*100\n",
    "    print(grouped_sum.index[i],format(percentage,\".2f\"))\n",
    "\n",
    "plt.pie(grouped_sum,labels=grouped_sum.index,autopct=\"%.2f\")\n",
    "plt.show()"
   ]
  },
  {
   "cell_type": "markdown",
   "id": "c51032d7",
   "metadata": {},
   "source": [
    "# Problem 7 : IMDB genre earning\n",
    "IMDB.sqlite' database contains all details of movies and has three tables with name IMDB, genre and earning.\n",
    "Find out the percentage of the total earning for each genre in IMDB Movie Dataset?Plot the pie chart.\n",
    "Print the genre and percentage of movies total earning present in that genre with 2 decimal place after rounding off.\n",
    "Note: Movies has multiple genres, so calculate the percentage for each genre.Total Earning=Domestic earning + WorldWide earning."
   ]
  },
  {
   "cell_type": "code",
   "execution_count": 24,
   "id": "d96e651d",
   "metadata": {},
   "outputs": [],
   "source": [
    "import pandas as pd\n",
    "import numpy as np\n",
    "import sqlite3\n",
    "import matplotlib.pyplot as plt\n",
    "%matplotlib inline\n",
    "\n",
    "db = sqlite3.connect('IMDB.sqlite')"
   ]
  },
  {
   "cell_type": "code",
   "execution_count": 31,
   "id": "f1c33a23",
   "metadata": {},
   "outputs": [
    {
     "name": "stdout",
     "output_type": "stream",
     "text": [
      "Action 17.91\n",
      "Adventure 23.57\n",
      "Animation 6.77\n",
      "Biography 3.42\n",
      "Comedy 7.69\n",
      "Crime 1.55\n",
      "Drama 11.96\n",
      "Family 1.05\n",
      "Fantasy 5.15\n",
      "History 1.04\n",
      "Horror 0.01\n",
      "Music 0.43\n",
      "Musical 0.38\n",
      "Mystery 2.01\n",
      "Romance 1.45\n",
      "Sci-Fi 9.95\n",
      "Sport 0.32\n",
      "Thriller 4.42\n",
      "War 0.25\n",
      "Western 0.65\n"
     ]
    },
    {
     "data": {
      "image/png": "[encoded data removed]",
      "text/plain": [
       "<Figure size 640x480 with 1 Axes>"
      ]
     },
     "metadata": {},
     "output_type": "display_data"
    }
   ],
   "source": [
    "data = pd.read_sql_query('Select * from genre join earning using(Movie_id)',db)\n",
    "\n",
    "data['Total'] = data[\"Domestic\"] + data[\"Worldwide\"]\n",
    "data['Total'].unique()\n",
    "data[\"genre\"].replace(\"\",np.NaN,inplace=True)\n",
    "data.dropna(subset=[\"genre\"],inplace=True)\n",
    "\n",
    "grouped_sum=data.groupby(\"genre\")['Total'].sum()\n",
    "\n",
    "percent = np.true_divide(grouped_sum,grouped_sum.sum())*100\n",
    "for i in range(len(grouped_sum)):\n",
    "    print(grouped_sum.index[i],format(percent[i],\".2f\"))\n",
    "\n",
    "plt.pie(grouped_sum,labels=grouped_sum.index,autopct=\"%.2f\")\n",
    "plt.show()"
   ]
  },
  {
   "cell_type": "markdown",
   "id": "bd25660a",
   "metadata": {},
   "source": [
    "# Problem 8 : IMDB Specific Genre\n",
    "IMDB.sqlite' database contains all details of movies and has three tables with name IMDB, genre and earning.\n",
    "Find the movie which has genre of 'Sci-Fi' and 'Mystery' and movie rating is greater or equal to 8 from IMDB Movie Database.\n",
    "Print the movie name.\n",
    "Movies has multiple genre."
   ]
  },
  {
   "cell_type": "code",
   "execution_count": 32,
   "id": "9749421b",
   "metadata": {},
   "outputs": [
    {
     "name": "stdout",
     "output_type": "stream",
     "text": [
      "Arrival (2016)\n"
     ]
    }
   ],
   "source": [
    "import pandas as pd\n",
    "import numpy as np\n",
    "import sqlite3\n",
    "\n",
    "db = sqlite3.connect('IMDB.sqlite')\n",
    "\n",
    "data = pd.read_sql_query('Select * from IMDB join genre using(Movie_id)',db)\n",
    "data = data[((data[\"genre\"]=='Sci-Fi') & (data[\"Rating\"]>=8)) | ((data[\"genre\"]=='Mystery') & (data[\"Rating\"]>=8))]\n",
    "print(data['Title'].values[0] )"
   ]
  },
  {
   "cell_type": "code",
   "execution_count": null,
   "id": "d8a01421",
   "metadata": {},
   "outputs": [],
   "source": []
  }
 ],
 "metadata": {
  "kernelspec": {
   "display_name": "Python 3 (ipykernel)",
   "language": "python",
   "name": "python3"
  },
  "language_info": {
   "codemirror_mode": {
    "name": "ipython",
    "version": 3
   },
   "file_extension": ".py",
   "mimetype": "text/x-python",
   "name": "python",
   "nbconvert_exporter": "python",
   "pygments_lexer": "ipython3",
   "version": "3.10.9"
  }
 },
 "nbformat": 4,
 "nbformat_minor": 5
}
